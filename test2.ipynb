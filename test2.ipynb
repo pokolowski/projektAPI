{
 "metadata": {
  "language_info": {
   "codemirror_mode": {
    "name": "ipython",
    "version": 3
   },
   "file_extension": ".py",
   "mimetype": "text/x-python",
   "name": "python",
   "nbconvert_exporter": "python",
   "pygments_lexer": "ipython3",
   "version": "3.9.5"
  },
  "orig_nbformat": 4,
  "kernelspec": {
   "name": "python3",
   "display_name": "Python 3.9.5 64-bit"
  },
  "interpreter": {
   "hash": "dcacb0086e9a4f4eabd41c33bf4faac5ea0a3337ed3f5eff0680afa930572c04"
  }
 },
 "nbformat": 4,
 "nbformat_minor": 2,
 "cells": [
  {
   "cell_type": "code",
   "execution_count": 1,
   "metadata": {},
   "outputs": [
    {
     "output_type": "stream",
     "name": "stdout",
     "text": [
      "Hello word from notebook\n"
     ]
    }
   ],
   "source": [
    "print(\"Hello word from notebook\")"
   ]
  },
  {
   "cell_type": "code",
   "execution_count": 5,
   "metadata": {},
   "outputs": [],
   "source": [
    "import numpy as np\n",
    "import pandas as pd\n",
    "import matplotlib.pyplot as plt\n",
    "import seaborn as sn\n"
   ]
  },
  {
   "cell_type": "code",
   "execution_count": 6,
   "metadata": {},
   "outputs": [
    {
     "output_type": "execute_result",
     "data": {
      "text/plain": [
       "       rated  turns victory_status winner       white_id  white_rating  \\\n",
       "0      False     13      outoftime  white       bourgris          1500   \n",
       "1       True     16         resign  black           a-00          1322   \n",
       "2       True     61           mate  white         ischia          1496   \n",
       "3       True     61           mate  white  daniamurashov          1439   \n",
       "4       True     95           mate  white      nik221107          1523   \n",
       "...      ...    ...            ...    ...            ...           ...   \n",
       "20053   True     24         resign  white        belcolt          1691   \n",
       "20054   True     82           mate  black       jamboger          1233   \n",
       "20055   True     35           mate  white       jamboger          1219   \n",
       "20056   True    109         resign  white   marcodisogno          1360   \n",
       "20057   True     78           mate  black       jamboger          1235   \n",
       "\n",
       "                 black_id  black_rating  \\\n",
       "0                    a-00          1191   \n",
       "1               skinnerua          1261   \n",
       "2                    a-00          1500   \n",
       "3            adivanov2009          1454   \n",
       "4            adivanov2009          1469   \n",
       "...                   ...           ...   \n",
       "20053            jamboger          1220   \n",
       "20054  farrukhasomiddinov          1196   \n",
       "20055        schaaksmurf3          1286   \n",
       "20056            jamboger          1227   \n",
       "20057               ffbob          1339   \n",
       "\n",
       "                                                   moves  \n",
       "0      d4 d5 c4 c6 cxd5 e6 dxe6 fxe6 Nf3 Bb4+ Nc3 Ba5...  \n",
       "1      d4 Nc6 e4 e5 f4 f6 dxe5 fxe5 fxe5 Nxe5 Qd4 Nc6...  \n",
       "2      e4 e5 d3 d6 Be3 c6 Be2 b5 Nd2 a5 a4 c5 axb5 Nc...  \n",
       "3      d4 d5 Nf3 Bf5 Nc3 Nf6 Bf4 Ng4 e3 Nc6 Be2 Qd7 O...  \n",
       "4      e4 e5 Nf3 d6 d4 Nc6 d5 Nb4 a3 Na6 Nc3 Be7 b4 N...  \n",
       "...                                                  ...  \n",
       "20053  d4 f5 e3 e6 Nf3 Nf6 Nc3 b6 Be2 Bb7 O-O Be7 Ne5...  \n",
       "20054  d4 d6 Bf4 e5 Bg3 Nf6 e3 exd4 exd4 d5 c3 Bd6 Bd...  \n",
       "20055  d4 d5 Bf4 Nc6 e3 Nf6 c3 e6 Nf3 Be7 Bd3 O-O Nbd...  \n",
       "20056  e4 d6 d4 Nf6 e5 dxe5 dxe5 Qxd1+ Kxd1 Nd5 c4 Nb...  \n",
       "20057  d4 d5 Bf4 Na6 e3 e6 c3 Nf6 Nf3 Bd7 Nbd2 b5 Bd3...  \n",
       "\n",
       "[20058 rows x 9 columns]"
      ],
      "text/html": "<div>\n<style scoped>\n    .dataframe tbody tr th:only-of-type {\n        vertical-align: middle;\n    }\n\n    .dataframe tbody tr th {\n        vertical-align: top;\n    }\n\n    .dataframe thead th {\n        text-align: right;\n    }\n</style>\n<table border=\"1\" class=\"dataframe\">\n  <thead>\n    <tr style=\"text-align: right;\">\n      <th></th>\n      <th>rated</th>\n      <th>turns</th>\n      <th>victory_status</th>\n      <th>winner</th>\n      <th>white_id</th>\n      <th>white_rating</th>\n      <th>black_id</th>\n      <th>black_rating</th>\n      <th>moves</th>\n    </tr>\n  </thead>\n  <tbody>\n    <tr>\n      <th>0</th>\n      <td>False</td>\n      <td>13</td>\n      <td>outoftime</td>\n      <td>white</td>\n      <td>bourgris</td>\n      <td>1500</td>\n      <td>a-00</td>\n      <td>1191</td>\n      <td>d4 d5 c4 c6 cxd5 e6 dxe6 fxe6 Nf3 Bb4+ Nc3 Ba5...</td>\n    </tr>\n    <tr>\n      <th>1</th>\n      <td>True</td>\n      <td>16</td>\n      <td>resign</td>\n      <td>black</td>\n      <td>a-00</td>\n      <td>1322</td>\n      <td>skinnerua</td>\n      <td>1261</td>\n      <td>d4 Nc6 e4 e5 f4 f6 dxe5 fxe5 fxe5 Nxe5 Qd4 Nc6...</td>\n    </tr>\n    <tr>\n      <th>2</th>\n      <td>True</td>\n      <td>61</td>\n      <td>mate</td>\n      <td>white</td>\n      <td>ischia</td>\n      <td>1496</td>\n      <td>a-00</td>\n      <td>1500</td>\n      <td>e4 e5 d3 d6 Be3 c6 Be2 b5 Nd2 a5 a4 c5 axb5 Nc...</td>\n    </tr>\n    <tr>\n      <th>3</th>\n      <td>True</td>\n      <td>61</td>\n      <td>mate</td>\n      <td>white</td>\n      <td>daniamurashov</td>\n      <td>1439</td>\n      <td>adivanov2009</td>\n      <td>1454</td>\n      <td>d4 d5 Nf3 Bf5 Nc3 Nf6 Bf4 Ng4 e3 Nc6 Be2 Qd7 O...</td>\n    </tr>\n    <tr>\n      <th>4</th>\n      <td>True</td>\n      <td>95</td>\n      <td>mate</td>\n      <td>white</td>\n      <td>nik221107</td>\n      <td>1523</td>\n      <td>adivanov2009</td>\n      <td>1469</td>\n      <td>e4 e5 Nf3 d6 d4 Nc6 d5 Nb4 a3 Na6 Nc3 Be7 b4 N...</td>\n    </tr>\n    <tr>\n      <th>...</th>\n      <td>...</td>\n      <td>...</td>\n      <td>...</td>\n      <td>...</td>\n      <td>...</td>\n      <td>...</td>\n      <td>...</td>\n      <td>...</td>\n      <td>...</td>\n    </tr>\n    <tr>\n      <th>20053</th>\n      <td>True</td>\n      <td>24</td>\n      <td>resign</td>\n      <td>white</td>\n      <td>belcolt</td>\n      <td>1691</td>\n      <td>jamboger</td>\n      <td>1220</td>\n      <td>d4 f5 e3 e6 Nf3 Nf6 Nc3 b6 Be2 Bb7 O-O Be7 Ne5...</td>\n    </tr>\n    <tr>\n      <th>20054</th>\n      <td>True</td>\n      <td>82</td>\n      <td>mate</td>\n      <td>black</td>\n      <td>jamboger</td>\n      <td>1233</td>\n      <td>farrukhasomiddinov</td>\n      <td>1196</td>\n      <td>d4 d6 Bf4 e5 Bg3 Nf6 e3 exd4 exd4 d5 c3 Bd6 Bd...</td>\n    </tr>\n    <tr>\n      <th>20055</th>\n      <td>True</td>\n      <td>35</td>\n      <td>mate</td>\n      <td>white</td>\n      <td>jamboger</td>\n      <td>1219</td>\n      <td>schaaksmurf3</td>\n      <td>1286</td>\n      <td>d4 d5 Bf4 Nc6 e3 Nf6 c3 e6 Nf3 Be7 Bd3 O-O Nbd...</td>\n    </tr>\n    <tr>\n      <th>20056</th>\n      <td>True</td>\n      <td>109</td>\n      <td>resign</td>\n      <td>white</td>\n      <td>marcodisogno</td>\n      <td>1360</td>\n      <td>jamboger</td>\n      <td>1227</td>\n      <td>e4 d6 d4 Nf6 e5 dxe5 dxe5 Qxd1+ Kxd1 Nd5 c4 Nb...</td>\n    </tr>\n    <tr>\n      <th>20057</th>\n      <td>True</td>\n      <td>78</td>\n      <td>mate</td>\n      <td>black</td>\n      <td>jamboger</td>\n      <td>1235</td>\n      <td>ffbob</td>\n      <td>1339</td>\n      <td>d4 d5 Bf4 Na6 e3 e6 c3 Nf6 Nf3 Bd7 Nbd2 b5 Bd3...</td>\n    </tr>\n  </tbody>\n</table>\n<p>20058 rows × 9 columns</p>\n</div>"
     },
     "metadata": {},
     "execution_count": 6
    }
   ],
   "source": [
    "col_list = ['white_id', 'white_rating', 'black_id', 'black_rating', 'victory_status', 'turns', 'rated', 'winner', 'moves']\n",
    "gry = pd.read_csv (r'games.csv', usecols=col_list)\n",
    "gry"
   ]
  },
  {
   "cell_type": "code",
   "execution_count": null,
   "metadata": {},
   "outputs": [],
   "source": []
  }
 ]
}